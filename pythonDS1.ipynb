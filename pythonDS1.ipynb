{
 "cells": [
  {
   "cell_type": "markdown",
   "metadata": {},
   "source": [
    "### Python Data Science Day 1\n"
   ]
  },
  {
   "cell_type": "markdown",
   "metadata": {},
   "source": [
    "#### Finding Key Connectors\n"
   ]
  },
  {
   "cell_type": "code",
   "execution_count": 34,
   "metadata": {},
   "outputs": [],
   "source": [
    "users = [{\n",
    "    \"id\": 0, \"name\": 'Hero'\n",
    "}, {\n",
    "    \"id\": 1, \"name\": \"Dunn\"\n",
    "}, {\n",
    "    \"id\": 2, \"name\": \"Sue\"\n",
    "}, {\n",
    "    \"id\": 3, \"name\": \"Chi\"\n",
    "}, {\n",
    "    \"id\": 4, \"name\": \"Thor\"\n",
    "},\n",
    "    {\n",
    "    \"id\": 5, \"name\": \"clive\"\n",
    "},\n",
    "    {\n",
    "    \"id\": 6, \"name\": \"Hicks\"\n",
    "},\n",
    "    {\n",
    "    \"id\": 7, \"name\": \"Devin\"\n",
    "},\n",
    "    {\n",
    "    \"id\": 8, \"name\": \"Kate\"\n",
    "},\n",
    "    {\n",
    "    \"id\": 9, \"name\": \"Kelvin\"\n",
    "}]\n",
    "\n",
    "# print(users)"
   ]
  },
  {
   "cell_type": "code",
   "execution_count": 35,
   "metadata": {},
   "outputs": [],
   "source": [
    "friendShipPairs = [(0,1),(0,2),(1,2),(1,3),(2,3),(3,4),(4,5),(5,6),(5,7),(6,8),(7,8),(8,9)]"
   ]
  },
  {
   "cell_type": "code",
   "execution_count": 36,
   "metadata": {},
   "outputs": [],
   "source": [
    "# Initialize the dict with empty list for array\n",
    "friendShip = {user['id']:[] for user in users}\n",
    "# print(friendShip)\n"
   ]
  },
  {
   "cell_type": "code",
   "execution_count": 37,
   "metadata": {},
   "outputs": [],
   "source": [
    "# Loops type with friend ship pairs i,j\n",
    "for i, j in friendShipPairs:\n",
    "    friendShip[i].append(j)\n",
    "    friendShip[j].append(i)\n",
    "\n",
    "# print(friendShip)"
   ]
  },
  {
   "cell_type": "code",
   "execution_count": 38,
   "metadata": {},
   "outputs": [],
   "source": [
    "# finding average number connection \n",
    "def numberOfFriend(user):\n",
    "    userId = user[\"id\"]\n",
    "    friendsId = friendShip[userId]\n",
    "    return len(friendsId)\n",
    "\n",
    "totalConnection = sum(numberOfFriend(user) for user in users)\n",
    "\n",
    "# print(totalConnection)"
   ]
  },
  {
   "cell_type": "code",
   "execution_count": 39,
   "metadata": {},
   "outputs": [],
   "source": [
    "numUsers = len(users)\n",
    "avgConnection = totalConnection/numUsers\n",
    "# print(avgConnection)"
   ]
  },
  {
   "cell_type": "code",
   "execution_count": 42,
   "metadata": {},
   "outputs": [
    {
     "name": "stdout",
     "output_type": "stream",
     "text": [
      "[(1, 3), (2, 3), (3, 3), (5, 3), (8, 3), (0, 2), (4, 2), (6, 2), (7, 2), (9, 1)]\n"
     ]
    }
   ],
   "source": [
    "# Creating userid with number of friends list\n",
    "\n",
    "numFriendsById = [(user[\"id\"],numberOfFriend(user))for user in users]\n",
    "\n",
    "numFriendsById.sort(key=lambda idAndFriends: idAndFriends[1],reverse=True)\n",
    "\n",
    "# Pair of userId with number of Friends.\n",
    "print(numFriendsById)"
   ]
  },
  {
   "cell_type": "code",
   "execution_count": null,
   "metadata": {},
   "outputs": [],
   "source": []
  }
 ],
 "metadata": {
  "interpreter": {
   "hash": "2ee3e017762396f245d4e50c88d3ee30ecf9cc15b4380135598811795c8ed044"
  },
  "kernelspec": {
   "display_name": "Python 3.9.5 ('mlenv')",
   "language": "python",
   "name": "python3"
  },
  "language_info": {
   "codemirror_mode": {
    "name": "ipython",
    "version": 3
   },
   "file_extension": ".py",
   "mimetype": "text/x-python",
   "name": "python",
   "nbconvert_exporter": "python",
   "pygments_lexer": "ipython3",
   "version": "3.9.5"
  },
  "orig_nbformat": 4
 },
 "nbformat": 4,
 "nbformat_minor": 2
}
